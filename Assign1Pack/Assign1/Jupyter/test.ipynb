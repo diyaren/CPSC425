{
 "cells": [
  {
   "cell_type": "code",
   "execution_count": 6,
   "metadata": {},
   "outputs": [
    {
     "name": "stdout",
     "output_type": "stream",
     "text": [
      "the result for sigma value 0.500000 is the following:\n",
      "[[0.01134374 0.08381951 0.01134374]\n",
      " [0.08381951 0.61934703 0.08381951]\n",
      " [0.01134374 0.08381951 0.01134374]]\n",
      "the result for sigma value 1.000000 is the following:\n",
      "[[1.96519161e-05 2.39409349e-04 1.07295826e-03 1.76900911e-03\n",
      "  1.07295826e-03 2.39409349e-04 1.96519161e-05]\n",
      " [2.39409349e-04 2.91660295e-03 1.30713076e-02 2.15509428e-02\n",
      "  1.30713076e-02 2.91660295e-03 2.39409349e-04]\n",
      " [1.07295826e-03 1.30713076e-02 5.85815363e-02 9.65846250e-02\n",
      "  5.85815363e-02 1.30713076e-02 1.07295826e-03]\n",
      " [1.76900911e-03 2.15509428e-02 9.65846250e-02 1.59241126e-01\n",
      "  9.65846250e-02 2.15509428e-02 1.76900911e-03]\n",
      " [1.07295826e-03 1.30713076e-02 5.85815363e-02 9.65846250e-02\n",
      "  5.85815363e-02 1.30713076e-02 1.07295826e-03]\n",
      " [2.39409349e-04 2.91660295e-03 1.30713076e-02 2.15509428e-02\n",
      "  1.30713076e-02 2.91660295e-03 2.39409349e-04]\n",
      " [1.96519161e-05 2.39409349e-04 1.07295826e-03 1.76900911e-03\n",
      "  1.07295826e-03 2.39409349e-04 1.96519161e-05]]\n"
     ]
    }
   ],
   "source": [
    "\n",
    "from PIL import Image\n",
    "import numpy as np\n",
    "import math\n",
    "from scipy import signal\n",
    "\n",
    "def gauss1d(sigma):\n",
    "    tmp=round(sigma*6)\n",
    "    if tmp%2!=0:\n",
    "    \tlength=tmp\n",
    "    else:\n",
    "    \tlength=tmp+1\n",
    "    x=range(-(int)(length/2),(int)(length/2+1))\n",
    "    PI=3.1415926 \n",
    "    results=[]\n",
    "    print \"the result for sigma value %f is the following:\" %sigma\n",
    "    for index in range(len(x)):\n",
    "    \tresult= 1/(math.sqrt(2*PI)*math.pow(sigma, 2))*math.exp(-math.pow(x[index],2)/(2*math.pow(sigma,2))) \n",
    "    \tresults.append(result)\n",
    "    total=sum(results)\n",
    "    results[:] = [x / total for x in results]\n",
    "    #print results\n",
    "    return np.array(results)\n",
    "\n",
    "def gauss2d(sigma):\n",
    "    gaus1d=gauss1d(sigma)\n",
    "    gaus1d = gaus1d[np.newaxis]\n",
    "    gaus1dTrans=np.transpose(gaus1d)\n",
    "    finalResult=signal.convolve2d(gaus1d,gaus1dTrans)  # a 2D Gaussian can be formed by convolution of a 1D Gaussian with its transpose.\n",
    "    return finalResult\n",
    "\n",
    "print gauss2d(0.5)\n",
    "print gauss2d(1)\n"
   ]
  },
  {
   "cell_type": "code",
   "execution_count": null,
   "metadata": {},
   "outputs": [],
   "source": []
  }
 ],
 "metadata": {
  "kernelspec": {
   "display_name": "Python 2",
   "language": "python",
   "name": "python2"
  },
  "language_info": {
   "codemirror_mode": {
    "name": "ipython",
    "version": 2
   },
   "file_extension": ".py",
   "mimetype": "text/x-python",
   "name": "python",
   "nbconvert_exporter": "python",
   "pygments_lexer": "ipython2",
   "version": "2.7.15"
  }
 },
 "nbformat": 4,
 "nbformat_minor": 2
}

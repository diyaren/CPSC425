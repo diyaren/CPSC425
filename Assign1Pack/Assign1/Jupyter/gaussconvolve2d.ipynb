{
 "cells": [
  {
   "cell_type": "code",
   "execution_count": 12,
   "metadata": {},
   "outputs": [
    {
     "name": "stdout",
     "output_type": "stream",
     "text": [
      "result for  3  is:\n"
     ]
    }
   ],
   "source": [
    "from PIL import Image\n",
    "import numpy as np\n",
    "import math\n",
    "from scipy import signal\n",
    "\n",
    "\n",
    "def gauss1d(sigma):\n",
    "    len = round(6*sigma)\n",
    "    if len%2==0:\n",
    "        len = len+1\n",
    "    else:\n",
    "        len = len\n",
    "       \n",
    "    initArr = np.arange(-(int)(len/2),(int)(len/2+1))\n",
    "    initArr = (1/(2*math.pi*math.pow(sigma,2)))*(np.exp(-np.power(initArr,2)/(2*math.pow(sigma,2))))\n",
    "    sumArr = np.sum(initArr)\n",
    "    result = initArr/sumArr\n",
    "    return result\n",
    "\n",
    "def gauss2d(sigma):\n",
    "    gau1d = gauss1d(sigma)\n",
    "    gau1d = gau1d[np.newaxis]\n",
    "    gauTrans = np.transpose(gau1d)\n",
    "    ans = signal.convolve2d(gau1d,gauTrans)\n",
    "    print \"result for \",sigma,\" is:\"\n",
    "    return ans\n",
    "\n",
    "def gaussconvolve2d(array,sigma):\n",
    "    gau2d = gauss2d(sigma)\n",
    "    #applied Gaussian convolution to a 2D array for the given value of sigma\n",
    "    ans = signal.convolve2d(array,gau2d,'same')\n",
    "    return ans\n",
    "\n",
    "#open and load the image\n",
    "img = Image.open(\"/Users/diyaren/Desktop/CPSC425/Assignments/Assign1/dog.jpg\")\n",
    "img.load()\n",
    "#copy the initial pic\n",
    "initImg = img\n",
    "#convert the RGB pic into greyscale\n",
    "img = img.convert(\"L\")\n",
    "#save the greyscale pic\n",
    "img.save(\"greyscale.png\")\n",
    "#convert the greyscale pic into Numpy array\n",
    "numpyArr = np.asarray(img)\n",
    "#apply Gaussian filter with sigma 3\n",
    "filter_Image_Array = gaussconvolve2d(numpyArr,3)\n",
    "#set data type to unit8 for 8 bit image\n",
    "filter_Image_Array = filter_Image_Array.astype('uint8')\n",
    "#convert from numpy array to image\n",
    "filteredImage = Image.fromarray(filter_Image_Array)\n",
    "#get the filtered image\n",
    "filteredImage.save(\"filteredDog.png\") \n",
    "#open images on screen\n",
    "initImg.show()\n",
    "img.show()\n",
    "filteredImage.show()"
   ]
  },
  {
   "cell_type": "code",
   "execution_count": null,
   "metadata": {},
   "outputs": [],
   "source": []
  },
  {
   "cell_type": "code",
   "execution_count": null,
   "metadata": {},
   "outputs": [],
   "source": []
  },
  {
   "cell_type": "code",
   "execution_count": null,
   "metadata": {},
   "outputs": [],
   "source": []
  }
 ],
 "metadata": {
  "kernelspec": {
   "display_name": "Python 2",
   "language": "python",
   "name": "python2"
  },
  "language_info": {
   "codemirror_mode": {
    "name": "ipython",
    "version": 2
   },
   "file_extension": ".py",
   "mimetype": "text/x-python",
   "name": "python",
   "nbconvert_exporter": "python",
   "pygments_lexer": "ipython2",
   "version": "2.7.15"
  }
 },
 "nbformat": 4,
 "nbformat_minor": 2
}

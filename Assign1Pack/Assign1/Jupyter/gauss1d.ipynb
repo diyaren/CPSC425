{
 "cells": [
  {
   "cell_type": "code",
   "execution_count": 28,
   "metadata": {},
   "outputs": [
    {
     "name": "stdout",
     "output_type": "stream",
     "text": [
      "[0.00383626 0.99232748 0.00383626]\n",
      "[0.10650698 0.78698604 0.10650698]\n",
      "[0.00443305 0.05400558 0.24203623 0.39905028 0.24203623 0.05400558\n",
      " 0.00443305]\n",
      "[0.0022182  0.00877313 0.02702316 0.06482519 0.12110939 0.17621312\n",
      " 0.19967563 0.17621312 0.12110939 0.06482519 0.02702316 0.00877313\n",
      " 0.0022182 ]\n"
     ]
    }
   ],
   "source": [
    "import numpy as np \n",
    "import math\n",
    "\n",
    "def gauss1d(sigma):\n",
    "    #get length of the array\n",
    "    len = round(6*sigma)\n",
    "    if len%2==0:\n",
    "        len = len+1\n",
    "    else:\n",
    "        len = len\n",
    "    \n",
    "    #set the arrage of the array base on the size limit     \n",
    "    initArr = np.arange(-(int)(len/2),(int)(len/2+1))\n",
    "    #get Guassian value bases on the formula\n",
    "    initArr = (1/(2*math.pi*math.pow(sigma,2)))*(np.exp(-np.power(initArr,2)/(2*math.pow(sigma,2))))\n",
    "    sumArr = np.sum(initArr)\n",
    "    #normalization\n",
    "    result = initArr/sumArr\n",
    "    return result\n",
    "#tests\n",
    "print gauss1d(0.3)\n",
    "print gauss1d(0.5)\n",
    "print gauss1d(1)\n",
    "print gauss1d(2)"
   ]
  },
  {
   "cell_type": "code",
   "execution_count": null,
   "metadata": {},
   "outputs": [],
   "source": []
  }
 ],
 "metadata": {
  "kernelspec": {
   "display_name": "Python 2",
   "language": "python",
   "name": "python2"
  },
  "language_info": {
   "codemirror_mode": {
    "name": "ipython",
    "version": 2
   },
   "file_extension": ".py",
   "mimetype": "text/x-python",
   "name": "python",
   "nbconvert_exporter": "python",
   "pygments_lexer": "ipython2",
   "version": "2.7.15"
  }
 },
 "nbformat": 4,
 "nbformat_minor": 2
}

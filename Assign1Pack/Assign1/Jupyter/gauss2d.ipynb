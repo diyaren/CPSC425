{
 "cells": [
  {
   "cell_type": "code",
   "execution_count": 2,
   "metadata": {},
   "outputs": [
    {
     "name": "stdout",
     "output_type": "stream",
     "text": [
      "result for  0.5  is:\n",
      "[[0.01134374 0.08381951 0.01134374]\n",
      " [0.08381951 0.61934703 0.08381951]\n",
      " [0.01134374 0.08381951 0.01134374]]\n",
      "result for  1  is:\n",
      "[[1.96519161e-05 2.39409349e-04 1.07295826e-03 1.76900911e-03\n",
      "  1.07295826e-03 2.39409349e-04 1.96519161e-05]\n",
      " [2.39409349e-04 2.91660295e-03 1.30713076e-02 2.15509428e-02\n",
      "  1.30713076e-02 2.91660295e-03 2.39409349e-04]\n",
      " [1.07295826e-03 1.30713076e-02 5.85815363e-02 9.65846250e-02\n",
      "  5.85815363e-02 1.30713076e-02 1.07295826e-03]\n",
      " [1.76900911e-03 2.15509428e-02 9.65846250e-02 1.59241126e-01\n",
      "  9.65846250e-02 2.15509428e-02 1.76900911e-03]\n",
      " [1.07295826e-03 1.30713076e-02 5.85815363e-02 9.65846250e-02\n",
      "  5.85815363e-02 1.30713076e-02 1.07295826e-03]\n",
      " [2.39409349e-04 2.91660295e-03 1.30713076e-02 2.15509428e-02\n",
      "  1.30713076e-02 2.91660295e-03 2.39409349e-04]\n",
      " [1.96519161e-05 2.39409349e-04 1.07295826e-03 1.76900911e-03\n",
      "  1.07295826e-03 2.39409349e-04 1.96519161e-05]]\n"
     ]
    }
   ],
   "source": [
    "import numpy as np\n",
    "import math\n",
    "from scipy import signal\n",
    "import matplotlib.pyplot as plt\n",
    "\n",
    "def gauss1d(sigma):\n",
    "    len = round(6*sigma)\n",
    "    if len%2==0:\n",
    "        len = len+1\n",
    "    else:\n",
    "        len = len\n",
    "       \n",
    "    initArr = np.arange(-(int)(len/2),(int)(len/2+1))\n",
    "    initArr = (1/(2*math.pi*math.pow(sigma,2)))*(np.exp(-np.power(initArr,2)/(2*math.pow(sigma,2))))\n",
    "    sumArr = np.sum(initArr)\n",
    "    result = initArr/sumArr\n",
    "    return result\n",
    "\n",
    "def gauss2d(sigma):\n",
    "    #get the 1D Gaussian\n",
    "    gau1d = gauss1d(sigma)\n",
    "    #convert 1D array into a 2D array\n",
    "    gau1d = gau1d[np.newaxis]\n",
    "    #get the transpose of the 2D array\n",
    "    gauTrans = np.transpose(gau1d)\n",
    "    #convolve two 2D arrays generate above \n",
    "    ans = signal.convolve2d(gau1d,gauTrans)\n",
    "    print \"result for \",sigma,\" is:\"\n",
    "    return ans\n",
    "#tests\n",
    "print gauss2d(0.5)\n",
    "print gauss2d(1)\n",
    "    "
   ]
  },
  {
   "cell_type": "code",
   "execution_count": null,
   "metadata": {},
   "outputs": [],
   "source": []
  },
  {
   "cell_type": "code",
   "execution_count": null,
   "metadata": {},
   "outputs": [],
   "source": []
  }
 ],
 "metadata": {
  "kernelspec": {
   "display_name": "Python 2",
   "language": "python",
   "name": "python2"
  },
  "language_info": {
   "codemirror_mode": {
    "name": "ipython",
    "version": 2
   },
   "file_extension": ".py",
   "mimetype": "text/x-python",
   "name": "python",
   "nbconvert_exporter": "python",
   "pygments_lexer": "ipython2",
   "version": "2.7.15"
  }
 },
 "nbformat": 4,
 "nbformat_minor": 2
}

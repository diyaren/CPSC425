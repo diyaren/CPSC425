{
 "cells": [
  {
   "cell_type": "code",
   "execution_count": 6,
   "metadata": {},
   "outputs": [
    {
     "data": {
      "text/plain": [
       "[<PIL.JpegImagePlugin.JpegImageFile image mode=L size=358x342 at 0x1C0D1C62D0>,\n",
       " <PIL.Image.Image image mode=L size=268x256 at 0x1C0D1C6210>,\n",
       " <PIL.Image.Image image mode=L size=201x192 at 0x1C0D1C6310>,\n",
       " <PIL.Image.Image image mode=L size=150x144 at 0x1C0D1C6350>,\n",
       " <PIL.Image.Image image mode=L size=112x108 at 0x1C0D1C6390>,\n",
       " <PIL.Image.Image image mode=L size=84x81 at 0x1C0D1C63D0>,\n",
       " <PIL.Image.Image image mode=L size=63x60 at 0x1C0D1C6410>,\n",
       " <PIL.Image.Image image mode=L size=47x45 at 0x1C0D1C6450>,\n",
       " <PIL.Image.Image image mode=L size=35x33 at 0x1C0D1C6490>]"
      ]
     },
     "execution_count": 6,
     "metadata": {},
     "output_type": "execute_result"
    }
   ],
   "source": [
    "from PIL import Image, ImageDraw\n",
    "import numpy as np\n",
    "import math\n",
    "from scipy import signal\n",
    "import ncc\n",
    "        \n",
    "def MakePyramid(image,minsize):\n",
    "    im = Image.open(image)\n",
    "    Pyramid = [];\n",
    "    while(im.size[0]>=minsize and im.size[1]>=minsize):\n",
    "        Pyramid.append(im)\n",
    "        im = im.resize((int(im.size[0]*0.75),int(im.size[1]*0.75)),Image.BICUBIC)\n",
    "        im.show()\n",
    "    return Pyramid\n",
    "\n",
    "\n",
    "        "
   ]
  },
  {
   "cell_type": "code",
   "execution_count": null,
   "metadata": {},
   "outputs": [],
   "source": []
  }
 ],
 "metadata": {
  "kernelspec": {
   "display_name": "Python 2",
   "language": "python",
   "name": "python2"
  },
  "language_info": {
   "codemirror_mode": {
    "name": "ipython",
    "version": 2
   },
   "file_extension": ".py",
   "mimetype": "text/x-python",
   "name": "python",
   "nbconvert_exporter": "python",
   "pygments_lexer": "ipython2",
   "version": "2.7.15"
  }
 },
 "nbformat": 4,
 "nbformat_minor": 2
}
